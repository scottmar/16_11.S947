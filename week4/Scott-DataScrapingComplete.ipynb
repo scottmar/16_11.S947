{
 "cells": [
  {
   "cell_type": "markdown",
   "metadata": {
    "slideshow": {
     "slide_type": "slide"
    }
   },
   "source": [
    "Big Data And Society: Lab 3\n",
    "=====\n"
   ]
  },
  {
   "cell_type": "markdown",
   "metadata": {},
   "source": [
    "# Data Scraping"
   ]
  },
  {
   "cell_type": "markdown",
   "metadata": {},
   "source": [
    "### 0. Importing the library\n",
    "\n",
    "First we need to import the libraries, and some of their components. We will be using **Twython**, a library that provides wrappers around Twitter's API. To install **Twython** on a terminal or the command line, run the following command:\n",
    "```\n",
    "pip install twython\n",
    "```\n",
    "\n",
    "We also need to create a Python file that will contain the **Twitter** keys. It is never a good idea to host these keys on a public website like **github**, so one way to keep them private is importing the keys as a variable from a separate, untracked file. If you haven’t done so, at this point you should obtain your twitter API keys. Create a python file on the same directory of your **IPython** notebook, and name it: **`twitter_key.py`**.\n",
    "\n",
    "```\n",
    "# In the file you should define two variables:\n",
    "t_key = ‘your twitter key’\n",
    "t_secret = ‘your twitter secret’\n",
    "```\n",
    "\n",
    "Get your Twitter key and secret code on the [Twitter Apps site](https://apps.twitter.com/). You will need to create an application, it doesn't matter what you call it, to get your key and secret code. Once your application is created, you will find your keys on the **Keys and Access Tokens** tab of your application."
   ]
  },
  {
   "cell_type": "code",
   "execution_count": 1,
   "metadata": {
    "collapsed": false
   },
   "outputs": [],
   "source": [
    "import json\n",
    "import time\n",
    "import threading\n",
    "\n",
    "from datetime import datetime\n",
    "from twython import Twython\n",
    "\n",
    "# Imports the keys from the python file\n",
    "from twitter_key import t_key, t_secret"
   ]
  },
  {
   "cell_type": "markdown",
   "metadata": {},
   "source": [
    "### 1. Query the Twitter API\n",
    "Now we are going to construct a **Twython** object; this object simplifies the access to the [Twitter API](https://dev.twitter.com/overview/documentation), and provides methods for accessing the API’s endpoints. The first function fetches tweets with a given query at a given lat-long. We will be using the search parameters to hit the APIs endpoint. We need to provide the lat/lon of the centroid of the area we want to query, maximum number of tweets to return, and area within the centroid to search for, among others. \n",
    "\n",
    "Additional documentation of the Twython API can be found [here]( https://twython.readthedocs.org/en/latest/)\n"
   ]
  },
  {
   "cell_type": "code",
   "execution_count": 2,
   "metadata": {
    "collapsed": false
   },
   "outputs": [],
   "source": [
    "# Assigns the keys to the variables\n",
    "APP_KEY = t_key\n",
    "APP_SECRET = t_secret\n",
    "\n",
    "# Setup a Lat Lon\n",
    "latlong = [24.6333, 46.7167]\n",
    "\n",
    "''' Fetches tweets with a given query at a given lat-long.'''\n",
    "def get_tweets( latlong=None ):\n",
    "    # Creates a Twithon object with the given keys\n",
    "    twitter = Twython( APP_KEY, APP_SECRET )\n",
    "    # Uses the search function to hit the APIs endpoints and look for recent tweets within the area\n",
    "    results = twitter.search( geocode=','.join([ str(x) for x in latlong ]) + ',15km', result_type='recent', count=10000)\n",
    "    # Returns the only the statuses from the resulting JSON\n",
    "    return results['statuses']"
   ]
  },
  {
   "cell_type": "markdown",
   "metadata": {},
   "source": [
    "### 2. Hit the API and Parse the Result\n",
    "We are going to create a function to help us repeatedly hit the API, and parse the result into a readable JSON that contains the things that we are interested in, and still stores the raw tweet as an additional property. The returned object is a Python `dict` that we can easily parse into another dictionary to later store as a JSON. Raw JSONs returned from the API have a specific structure. It can be sometimes hard to read a raw JSON. I find it easy to use some online parses like [this]( http://json.parser.online.fr/) to look at the structure of the JSON, and only access what we care about. \n"
   ]
  },
  {
   "cell_type": "code",
   "execution_count": 3,
   "metadata": {
    "collapsed": true
   },
   "outputs": [],
   "source": [
    "\"\"\" Does pretty much what its long name suggests. \"\"\"\n",
    "def get_lots_of_tweets( latlong ):\n",
    "    # Create a dictionary to parse the JSON\n",
    "    all_tweets = {}\n",
    "    \n",
    "    # We will be hitting the API a number of times within the total time\n",
    "    total_time = 120\n",
    "    # Everytime we hit the API we subtract time from the total\n",
    "    remaining_seconds = total_time\n",
    "    interval = 30 \n",
    "    while remaining_seconds > 0:\n",
    "        added = 0\n",
    "        # We hit the Twitter API\n",
    "        new_tweets = get_tweets( latlong )\n",
    "        # We parse the resulting JSON, and save the rest of the raw content\n",
    "        for tweet in new_tweets:\n",
    "            tid = tweet['id']\n",
    "            if tid not in all_tweets and tweet['coordinates'] != None:\n",
    "                properties = {}\n",
    "                properties['lat'] = tweet['coordinates']['coordinates'][0]\n",
    "                properties['lon'] = tweet['coordinates']['coordinates'][1]\n",
    "                properties['tweet_id'] = tid\n",
    "                properties['content'] = tweet['text']\n",
    "                properties['user'] = tweet['user']['id']\n",
    "                properties['user_location'] = tweet['user']['location']\n",
    "                properties['raw_source'] = tweet\n",
    "                properties['data_point'] = 'none'\n",
    "                properties['time'] = tweet['created_at']\n",
    "                all_tweets[ tid ] = properties\n",
    "                added += 1\n",
    "        print \"At %d seconds, added %d new tweets, for a total of %d\" % ( total_time - remaining_seconds, added, len( all_tweets ) )\n",
    "        # We wait a few seconds and hit the API again\n",
    "        time.sleep(interval)\n",
    "        remaining_seconds -= interval\n",
    "    # We return the final dictionary\n",
    "    return all_tweets"
   ]
  },
  {
   "cell_type": "markdown",
   "metadata": {},
   "source": [
    "### 3. Run the Functions\n",
    "\n",
    "We need to call the functions, and save the JSONs into a location. In this case, I made a folder called `twitter`, where I a m saving all the new JSONS. We can run the code continuously utilizing some loop, or we can use libraries like `threading`. \n"
   ]
  },
  {
   "cell_type": "code",
   "execution_count": 6,
   "metadata": {
    "collapsed": false
   },
   "outputs": [
    {
     "name": "stdout",
     "output_type": "stream",
     "text": [
      "At 0 seconds, added 2 new tweets, for a total of 2\n",
      "At 30 seconds, added 0 new tweets, for a total of 2\n",
      "At 60 seconds, added 3 new tweets, for a total of 5\n",
      "At 90 seconds, added 1 new tweets, for a total of 6\n"
     ]
    }
   ],
   "source": [
    "'''This function executes the rest of the functions over a given period of time'''\n",
    "def run():\n",
    "    # This is the number of times the code will be executed. In this case, just once. \n",
    "    starting = 1\n",
    "    while starting > 0:\n",
    "        # Sometimes the API returns some errors, killing the whole script, so we setup try/except to make sure it keeps running\n",
    "        try:\n",
    "            # We define a centroid in Riyadh\n",
    "            latlong = [24.6333, 46.7167]\n",
    "            t = get_lots_of_tweets( latlong )\n",
    "            # We name every file with the current time\n",
    "            timestr = time.strftime(\"%Y%m%d-%H%M%S\")\n",
    "            # We write a new JSON into the target path\n",
    "            with open( 'twitter/%stweets.json' %(timestr), 'w' ) as f:\n",
    "                f.write( json.dumps(t))\n",
    "            # we can use a library like threading to execute the run function continuously.\n",
    "            # threading.Timer(10, run).start()\n",
    "            starting -= 1\n",
    "        except:\n",
    "            pass\n",
    "    \n",
    "run()"
   ]
  },
  {
   "cell_type": "markdown",
   "metadata": {},
   "source": [
    "### 4. Parse the JSONs\n",
    "Once we have collected some data, we can parse it, and visualize some of the results. Since some of the data is repeated, we can initialize some lists to check whether or not a tweet already exists, and add it to the list. We can then extract the useful information for our purposes, and store it in another list.\n"
   ]
  },
  {
   "cell_type": "code",
   "execution_count": 7,
   "metadata": {
    "collapsed": false
   },
   "outputs": [
    {
     "data": {
      "text/plain": [
       "array([[ 46.6899543 ,  24.76101187],\n",
       "       [ 46.83261096,  24.67830205],\n",
       "       [ 46.79018   ,  24.7183    ],\n",
       "       [ 46.75623536,  24.76707678],\n",
       "       [ 46.69245645,  24.71531025],\n",
       "       [ 46.70851371,  24.75890572],\n",
       "       [ 46.54211134,  24.58360719],\n",
       "       [ 46.7213601 ,  24.6990848 ],\n",
       "       [ 46.72411   ,  24.74499   ],\n",
       "       [ 46.72115577,  24.6863697 ],\n",
       "       [ 46.65087   ,  24.67518   ],\n",
       "       [ 46.71048783,  24.68694022],\n",
       "       [ 46.7728    ,  24.6408    ],\n",
       "       [ 46.70951236,  24.54345978],\n",
       "       [ 46.7460487 ,  24.6810493 ],\n",
       "       [ 46.63381296,  24.71370393],\n",
       "       [ 46.69252397,  24.69909513],\n",
       "       [ 46.67794468,  24.71253747],\n",
       "       [ 46.69254602,  24.71516912],\n",
       "       [ 46.63377527,  24.71363798],\n",
       "       [ 46.6338812 ,  24.6955324 ],\n",
       "       [ 46.6614109 ,  24.6274053 ],\n",
       "       [ 46.70951236,  24.54345978],\n",
       "       [ 46.64905932,  24.57874438],\n",
       "       [ 46.69710875,  24.74108246],\n",
       "       [ 46.72844977,  24.59058139],\n",
       "       [ 46.77281671,  24.69795788],\n",
       "       [ 46.66992812,  24.69198319],\n",
       "       [ 46.6446214 ,  24.5773845 ],\n",
       "       [ 46.77709375,  24.62450716],\n",
       "       [ 46.6613937 ,  24.6274186 ],\n",
       "       [ 46.78485257,  24.73269504],\n",
       "       [ 46.65852   ,  24.71958   ],\n",
       "       [ 46.62410878,  24.6842405 ],\n",
       "       [ 46.62      ,  24.74614   ],\n",
       "       [ 46.72609937,  24.68097246],\n",
       "       [ 46.69252619,  24.71523929],\n",
       "       [ 46.70951236,  24.54345978],\n",
       "       [ 46.68994835,  24.70186855],\n",
       "       [ 46.73296356,  24.69229698],\n",
       "       [ 46.71539068,  24.69432188],\n",
       "       [ 46.65951   ,  24.74413   ],\n",
       "       [ 46.67992115,  24.74293381],\n",
       "       [ 46.70264377,  24.69621289],\n",
       "       [ 46.69587   ,  24.64389   ],\n",
       "       [ 46.59833768,  24.73493381],\n",
       "       [ 46.70354969,  24.70457407],\n",
       "       [ 46.68487391,  24.64820076],\n",
       "       [ 46.862467  ,  24.668657  ],\n",
       "       [ 46.62285447,  24.74256354],\n",
       "       [ 46.70851371,  24.75890572],\n",
       "       [ 46.6479    ,  24.67841   ],\n",
       "       [ 46.67093719,  24.76538106],\n",
       "       [ 46.69259141,  24.71519609],\n",
       "       [ 46.69245645,  24.71531025],\n",
       "       [ 46.6170127 ,  24.597038  ],\n",
       "       [ 46.76752425,  24.72375261],\n",
       "       [ 46.71739544,  24.7434228 ],\n",
       "       [ 46.66255066,  24.74764916],\n",
       "       [ 46.70328058,  24.564282  ],\n",
       "       [ 46.65242347,  24.72635952],\n",
       "       [ 46.69631217,  24.70154071],\n",
       "       [ 46.67073   ,  24.70933   ],\n",
       "       [ 46.65006186,  24.75345554],\n",
       "       [ 46.69011816,  24.73936014],\n",
       "       [ 46.67842   ,  24.70269   ],\n",
       "       [ 46.70495108,  24.74466315],\n",
       "       [ 46.66332721,  24.75491052],\n",
       "       [ 46.6618727 ,  24.735491  ],\n",
       "       [ 46.68219398,  24.71098763],\n",
       "       [ 46.69254602,  24.71516912],\n",
       "       [ 46.63471667,  24.58606   ],\n",
       "       [ 46.62325   ,  24.67361   ],\n",
       "       [ 46.862554  ,  24.668606  ],\n",
       "       [ 46.74462274,  24.68962986],\n",
       "       [ 46.77111104,  24.69355066],\n",
       "       [ 46.62911077,  24.68321168],\n",
       "       [ 46.70255   ,  24.69698   ],\n",
       "       [ 46.69259141,  24.71519609],\n",
       "       [ 46.71509   ,  24.76778   ],\n",
       "       [ 46.64890563,  24.57880529],\n",
       "       [ 46.65805654,  24.71875583],\n",
       "       [ 46.64908005,  24.57864612],\n",
       "       [ 46.7224    ,  24.688     ],\n",
       "       [ 46.6883997 ,  24.7143679 ],\n",
       "       [ 46.54217046,  24.58350028],\n",
       "       [ 46.69264978,  24.69992115],\n",
       "       [ 46.7711059 ,  24.7409132 ],\n",
       "       [ 46.78586868,  24.7250242 ],\n",
       "       [ 46.67059   ,  24.71216   ],\n",
       "       [ 46.69254602,  24.71516912],\n",
       "       [ 46.72441431,  24.64728   ],\n",
       "       [ 46.72035057,  24.64703766],\n",
       "       [ 46.63708591,  24.5750976 ],\n",
       "       [ 46.69677506,  24.69137759],\n",
       "       [ 46.72036269,  24.64702702],\n",
       "       [ 46.80383174,  24.56430854],\n",
       "       [ 46.54303359,  24.57404263],\n",
       "       [ 46.8032824 ,  24.6948414 ],\n",
       "       [ 46.80383174,  24.56430854]])"
      ]
     },
     "execution_count": 7,
     "metadata": {},
     "output_type": "execute_result"
    }
   ],
   "source": [
    "# Import additional libraries\n",
    "from os import listdir\n",
    "from os.path import isfile, join\n",
    "import numpy as np\n",
    "import matplotlib.pyplot as plt\n",
    "%matplotlib inline\n",
    "\n",
    "# Get the file names from a given directory\n",
    "file_dir = 'twitter' # Set this to where your JSON saved\n",
    "onlyfiles = [ f for f in listdir(file_dir) if isfile(join(file_dir,f)) and not f.startswith('.')]\n",
    "\n",
    "# Initialize some lists to store the points, and the ids of the tweets\n",
    "ids = []\n",
    "all_pts = []\n",
    "# Loop through all the files\n",
    "for file in onlyfiles:\n",
    "    full_dir = join(file_dir,file)\n",
    "    # Open the JSON\n",
    "    with open(full_dir) as f:\n",
    "        data = f.read()\n",
    "        # Load the JSON as a dict\n",
    "        dict = json.loads(data)\n",
    "        # Only add the unique tweets to the list\n",
    "        if not isinstance(dict, list):\n",
    "            for key, val in dict.iteritems():\n",
    "                if key not in ids:\n",
    "                    ids.append(key)\n",
    "                    lat = val['lat']\n",
    "                    lon = val['lon']\n",
    "                    all_pts.append([lat,lon])\n",
    "pts = np.array(all_pts)\n",
    "pts                "
   ]
  },
  {
   "cell_type": "markdown",
   "metadata": {},
   "source": [
    "### 5. Plot some Tweets\n",
    "We can use **matplotlib** to visualize some tweets."
   ]
  },
  {
   "cell_type": "code",
   "execution_count": 8,
   "metadata": {
    "collapsed": false
   },
   "outputs": [
    {
     "data": {
      "text/plain": [
       "<matplotlib.collections.PathCollection at 0xa617358>"
      ]
     },
     "execution_count": 8,
     "metadata": {},
     "output_type": "execute_result"
    },
    {
     "data": {
      "image/png": "[encoded data removed]",
      "text/plain": [
       "<matplotlib.figure.Figure at 0x38d5f60>"
      ]
     },
     "metadata": {},
     "output_type": "display_data"
    }
   ],
   "source": [
    "# Use a scatter plot to make a quick visualization of the data points\n",
    "plt.scatter(pts[:,0], pts[:,1])"
   ]
  },
  {
   "cell_type": "markdown",
   "metadata": {},
   "source": [
    "Lets make sure that we don't get tweets plotted more than once. How would you make sure to only plot unique tweets? We can maybe:\n",
    "\n",
    "* Construct a list with unique id's\n",
    "* Only add the tweets to the `numpy.array` if the tweet doesn't exist in the list.\n",
    "\n",
    "Answer: The code from above should do this nicely:\n",
    "for key, val in dict.iteritems():\n",
    "                if key not in ids:\n",
    "                # etc\n",
    "It only adds data for keys (tids) that are not already in the dict."
   ]
  },
  {
   "cell_type": "markdown",
   "metadata": {
    "collapsed": true
   },
   "source": [
    "### Problem Set - Extend What you Learned\n",
    "\n",
    "Now that you know how to scrape data let's extend the exercise a little so you can show us what you know. This time you will set up the scraper to get data around MIT and scrap data for 15 minutes and visualize. Think about what you would need to change to do that. \n",
    "\n",
    "Once you have the new json file of Boston tweets you should make a new array so that you can make a new scatter plot of your Boston tweets. When you make this new array you should get at least two different attributes returned by the Twitter api. One of them should be the tweet id. Make sure you remove and duplicate tweets (if any). Plot the tweets with different colors (use lat/long to determine the colors) using the scatter plot tool. Then save the data to a CSV.\n",
    "\n",
    "Make sure you get your own Twitter Key.\n",
    "\n",
    "#### Deliverables\n",
    "\n",
    "**1** - Collect Tweets from Boston for 15 min. Note how you set the time in the above example, it was in seconds. How would you do that here? \n",
    "\n",
    "**2** - Plot your tweets using matplotlib.\n",
    "\n",
    "**3** - Change colors based on lat/long position.\n",
    "\n",
    "**4** - Save your array CSV file. We will be checking this CSV file for duplicates. So clean your file.  \n",
    "\n",
    "### What to Give Us on Stellar \n",
    "\n",
    "1 - Iphython notebook of your scrapper, which includes your scattterplot.\n",
    "\n",
    "2 - Your final CSV file. \n",
    "\n",
    "### Bonus # 1\n",
    "\n",
    "Bonus  -- Do the orginally planned assignment now titled Bonus. If you do the whole thing you get a free homework assignment. If  you do parts of it you will get points to future assignments. \n"
   ]
  },
  {
   "cell_type": "code",
   "execution_count": 11,
   "metadata": {
    "collapsed": true
   },
   "outputs": [],
   "source": [
    "latlongmit = [42.3593071,-71.0957108]\n",
    "\n",
    "# Copy the get_lots_of_tweets function from above (and, by reference, the get_tweets function)\n",
    "# but change the total time\n",
    "\n",
    "def get_lots_of_tweets2( latlong ):\n",
    "    # Create a dictionary to parse the JSON\n",
    "    all_tweets = {}\n",
    "    \n",
    "    # We will be hitting the API a number of times within the total time\n",
    "    total_time = 900\n",
    "    # Everytime we hit the API we subtract time from the total\n",
    "    remaining_seconds = total_time\n",
    "    interval = 30 \n",
    "    while remaining_seconds > 0:\n",
    "        added = 0\n",
    "        # We hit the Twitter API\n",
    "        new_tweets = get_tweets( latlong )\n",
    "        # We parse the resulting JSON, and save the rest of the raw content\n",
    "        for tweet in new_tweets:\n",
    "            tid = tweet['id']\n",
    "            if tid not in all_tweets and tweet['coordinates'] != None:\n",
    "                properties = {}\n",
    "                properties['lat'] = tweet['coordinates']['coordinates'][0]\n",
    "                properties['lon'] = tweet['coordinates']['coordinates'][1]\n",
    "                properties['tweet_id'] = tid\n",
    "                properties['content'] = tweet['text']\n",
    "                properties['user'] = tweet['user']['id']\n",
    "                properties['user_location'] = tweet['user']['location']\n",
    "                properties['raw_source'] = tweet\n",
    "                properties['data_point'] = 'none'\n",
    "                properties['time'] = tweet['created_at']\n",
    "                all_tweets[ tid ] = properties\n",
    "                added += 1\n",
    "        print \"At %d seconds, added %d new tweets, for a total of %d\" % ( total_time - remaining_seconds, added, len( all_tweets ) )\n",
    "        # We wait a few seconds and hit the API again\n",
    "        time.sleep(interval)\n",
    "        remaining_seconds -= interval\n",
    "    # We return the final dictionary\n",
    "    return all_tweets\n",
    "\n",
    "# copy the run function from above, but setting it on 77 mass ave\n",
    "def run2():\n",
    "    # This is the number of times the code will be executed. In this case, just once. \n",
    "    starting = 1\n",
    "    while starting > 0:\n",
    "        # Sometimes the API returns some errors, killing the whole script, so we setup try/except to make sure it keeps running\n",
    "        try:\n",
    "            # We define a centroid in Riyadh\n",
    "            latlongmit = [42.3593071,-71.0957108]\n",
    "            t = get_lots_of_tweets2( latlongmit )\n",
    "            # We name every file with the current time\n",
    "            timestr = time.strftime(\"%Y%m%d-%H%M%S\")\n",
    "            # We write a new JSON into the target path\n",
    "            with open( 'twitter/%stweets.json' %(timestr), 'w' ) as f:\n",
    "                f.write( json.dumps(t))\n",
    "            # we can use a library like threading to execute the run function continuously.\n",
    "            # threading.Timer(10, run).start()\n",
    "            starting -= 1\n",
    "        except:\n",
    "            pass"
   ]
  },
  {
   "cell_type": "code",
   "execution_count": 12,
   "metadata": {
    "collapsed": false
   },
   "outputs": [
    {
     "name": "stdout",
     "output_type": "stream",
     "text": [
      "At 0 seconds, added 90 new tweets, for a total of 90\n",
      "At 30 seconds, added 0 new tweets, for a total of 90\n",
      "At 60 seconds, added 4 new tweets, for a total of 94\n",
      "At 90 seconds, added 2 new tweets, for a total of 96\n",
      "At 120 seconds, added 0 new tweets, for a total of 96\n",
      "At 150 seconds, added 1 new tweets, for a total of 97\n",
      "At 180 seconds, added 1 new tweets, for a total of 98\n",
      "At 210 seconds, added 0 new tweets, for a total of 98\n",
      "At 240 seconds, added 2 new tweets, for a total of 100\n",
      "At 270 seconds, added 2 new tweets, for a total of 102\n",
      "At 300 seconds, added 1 new tweets, for a total of 103\n",
      "At 330 seconds, added 0 new tweets, for a total of 103\n",
      "At 360 seconds, added 1 new tweets, for a total of 104\n",
      "At 390 seconds, added 0 new tweets, for a total of 104\n",
      "At 420 seconds, added 0 new tweets, for a total of 104\n",
      "At 450 seconds, added 3 new tweets, for a total of 107\n",
      "At 480 seconds, added 0 new tweets, for a total of 107\n",
      "At 510 seconds, added 0 new tweets, for a total of 107\n",
      "At 540 seconds, added 0 new tweets, for a total of 107\n",
      "At 570 seconds, added 0 new tweets, for a total of 107\n",
      "At 600 seconds, added 0 new tweets, for a total of 107\n",
      "At 630 seconds, added 1 new tweets, for a total of 108\n",
      "At 660 seconds, added 1 new tweets, for a total of 109\n",
      "At 690 seconds, added 0 new tweets, for a total of 109\n",
      "At 720 seconds, added 0 new tweets, for a total of 109\n",
      "At 750 seconds, added 1 new tweets, for a total of 110\n",
      "At 780 seconds, added 2 new tweets, for a total of 112\n",
      "At 810 seconds, added 2 new tweets, for a total of 114\n",
      "At 840 seconds, added 1 new tweets, for a total of 115\n",
      "At 870 seconds, added 2 new tweets, for a total of 117\n"
     ]
    }
   ],
   "source": [
    "run2()"
   ]
  },
  {
   "cell_type": "code",
   "execution_count": 28,
   "metadata": {
    "collapsed": false
   },
   "outputs": [
    {
     "data": {
      "text/plain": [
       "array([[u'-71.11987015', u'42.3827436', u'703729234733363203'],\n",
       "       [u'-71.062439', u'42.3646355', u'703716282810638338'],\n",
       "       [u'-71.13221', u'42.37936', u'703728879467438080'],\n",
       "       [u'-71.13221', u'42.37936', u'703728799989538816'],\n",
       "       [u'-71.12758', u'42.40366', u'703722822212816898'],\n",
       "       [u'-71.05729525', u'42.35138554', u'703722753900355585'],\n",
       "       [u'-71.04744663', u'42.33642828', u'703725797354373121'],\n",
       "       [u'-71.12361065', u'42.3545976', u'703718461718061056'],\n",
       "       [u'-71.0705763', u'42.3377967', u'703725858842804224'],\n",
       "       [u'-71.2494', u'42.3742', u'703724154797821952'],\n",
       "       [u'-71.24396111', u'42.40736944', u'703726692687155200'],\n",
       "       [u'-71.06176885', u'42.36585173', u'703725159220441089'],\n",
       "       [u'-71.07707327', u'42.3708739', u'703717840650682368'],\n",
       "       [u'-71.05040437', u'42.37315041', u'703720998055575553'],\n",
       "       [u'-71.10612275', u'42.34996438', u'703721734835339265'],\n",
       "       [u'-71.0527496', u'42.3570633', u'703720736456892416'],\n",
       "       [u'-71.0988025', u'42.3319167', u'703718032695173120'],\n",
       "       [u'-71.06237907', u'42.35119594', u'703728996161294336'],\n",
       "       [u'-71.12245788', u'42.37230332', u'703716558397374464'],\n",
       "       [u'-71.06176885', u'42.36585173', u'703715801891786753'],\n",
       "       [u'-71.0098', u'42.4628', u'703715838797471749'],\n",
       "       [u'-71.08067764', u'42.34911482', u'703723815822565378'],\n",
       "       [u'-71.16491227', u'42.36248291', u'703725269954273282'],\n",
       "       [u'-71.0959504', u'42.34720973', u'703728954956521472'],\n",
       "       [u'-71.0237274', u'42.3879509', u'703723245611065344'],\n",
       "       [u'-71.055755', u'42.359769', u'703729274931515396'],\n",
       "       [u'-71.0971914', u'42.34644218', u'703724027307757568'],\n",
       "       [u'-71.2073898', u'42.4223289', u'703724537192513536'],\n",
       "       [u'-71.097385', u'42.343337', u'703728418664390656'],\n",
       "       [u'-71.07299', u'42.35215', u'703717385232994304'],\n",
       "       [u'-71.0617', u'42.3578', u'703716419918307332'],\n",
       "       [u'-71.10211', u'42.36463', u'703722752495230976'],\n",
       "       [u'-71.0482911', u'42.3613114', u'703715937090801664'],\n",
       "       [u'-71.10152977', u'42.34442368', u'703718989034184704'],\n",
       "       [u'-71.10104639', u'42.36364637', u'703718960835866625'],\n",
       "       [u'-71.11888424', u'42.38961399', u'703721168277106688'],\n",
       "       [u'-71.06666667', u'42.45833333', u'703717140235476993'],\n",
       "       [u'-71.0617', u'42.3578', u'703717807033221120'],\n",
       "       [u'-71.07215592', u'42.35346264', u'703720908658069505'],\n",
       "       [u'-71.0982', u'42.3445', u'703726524218925056'],\n",
       "       [u'-71.06103549', u'42.35878676', u'703719173856346112'],\n",
       "       [u'-71.0552516', u'42.3561185', u'703719297466572801'],\n",
       "       [u'-71.23532', u'42.37644', u'703726175407898624'],\n",
       "       [u'-71.0573421', u'42.3539011', u'703725249003540481'],\n",
       "       [u'-71.03833012', u'42.37513946', u'703717194937536512'],\n",
       "       [u'-71.07781004', u'42.34886974', u'703723483080085504'],\n",
       "       [u'-71.0661', u'42.3583', u'703721349009772544'],\n",
       "       [u'-71.05607271', u'42.35284209', u'703722274625605632'],\n",
       "       [u'-71.1096528', u'42.3726399', u'703716782175965184'],\n",
       "       [u'-71.10129', u'42.33782', u'703717790021230592'],\n",
       "       [u'-71.0617', u'42.3578', u'703716900375818241'],\n",
       "       [u'-71.06001', u'42.35802', u'703725720619487232'],\n",
       "       [u'-71.10129', u'42.33782', u'703715981399560193'],\n",
       "       [u'-71.084575', u'42.371626', u'703715965436088321'],\n",
       "       [u'-71.13876793', u'42.33868369', u'703716783920979968'],\n",
       "       [u'-71.0656509', u'42.3500099', u'703720224806330368'],\n",
       "       [u'-71.0971914', u'42.34644218', u'703717548886499328'],\n",
       "       [u'-71.11776255', u'42.38073946', u'703729059230937089'],\n",
       "       [u'-71.06573537', u'42.35000833', u'703716182235414528'],\n",
       "       [u'-71.14222335', u'42.34442798', u'703724264747307015'],\n",
       "       [u'-71.1192746', u'42.3722723', u'703727469413715972'],\n",
       "       [u'-71.15694444', u'42.41527778', u'703718136642736128'],\n",
       "       [u'-71.1316', u'42.3528', u'703718291571916800'],\n",
       "       [u'-71.05694444', u'42.36138889', u'703716415807815680'],\n",
       "       [u'-71.2245003', u'42.4473174', u'703720935837175808'],\n",
       "       [u'-71.056895', u'42.362039', u'703724571023839233'],\n",
       "       [u'-71.2328329', u'42.283431', u'703726321008922624'],\n",
       "       [u'-71.06448152', u'42.40008518', u'703717949669044227'],\n",
       "       [u'-71.08972222', u'42.33166667', u'703721937625870336'],\n",
       "       [u'-71.13743093', u'42.34859868', u'703723552713916416'],\n",
       "       [u'-71.13221', u'42.37936', u'703724946925555712'],\n",
       "       [u'-71.1096528', u'42.3726399', u'703719661318180864'],\n",
       "       [u'-71.1206436', u'42.374157', u'703715835752407041'],\n",
       "       [u'-71.0597732', u'42.3584308', u'703727442368671744'],\n",
       "       [u'-71.1336', u'42.3307', u'703719264059039744'],\n",
       "       [u'-71.05366226', u'42.36466138', u'703723115763900416'],\n",
       "       [u'-71.1223', u'42.3963', u'703723893249478656'],\n",
       "       [u'-71.1290228', u'42.4052478', u'703722233202659329'],\n",
       "       [u'-71.05465664', u'42.35607261', u'703724531492323328'],\n",
       "       [u'-71.06204953', u'42.36639635', u'703725699165765632'],\n",
       "       [u'-71.15448318', u'42.34163404', u'703725354222018560'],\n",
       "       [u'-71.18788', u'42.36761', u'703725895924645888'],\n",
       "       [u'-71.0959504', u'42.34720973', u'703716792926117888'],\n",
       "       [u'-71.26117', u'42.38238', u'703716358366892033'],\n",
       "       [u'-71.0964', u'42.3797', u'703720439676186624'],\n",
       "       [u'-71.08972222', u'42.33166667', u'703720953038180352'],\n",
       "       [u'-71.08693063', u'42.37192827', u'703715745855901696'],\n",
       "       [u'-71.0022705', u'42.2528772', u'703722237107408896'],\n",
       "       [u'-71.0943042', u'42.3474085', u'703727493853741056'],\n",
       "       [u'-71.1106', u'42.3737', u'703726718461349888'],\n",
       "       [u'-71.1208', u'42.3097', u'703718116581351424'],\n",
       "       [u'-71.07875842', u'42.3412936', u'703728201516847104'],\n",
       "       [u'-71.07083455', u'42.4272222', u'703726578174464000'],\n",
       "       [u'-71.0552516', u'42.3561185', u'703719301275000833'],\n",
       "       [u'-71.13266998', u'42.35279708', u'703726836946231296'],\n",
       "       [u'-71.01867371', u'42.36516484', u'703719773989777408'],\n",
       "       [u'-71.095695', u'42.34742', u'703729130026758145'],\n",
       "       [u'-71.08972222', u'42.33166667', u'703721520720388096'],\n",
       "       [u'-71.06598877', u'42.3754733', u'703719436524638208'],\n",
       "       [u'-71.1208038', u'42.3412971', u'703720208012341248'],\n",
       "       [u'-71.095695', u'42.34742', u'703720842019086336'],\n",
       "       [u'-71.17486825', u'42.31935103', u'703727122192441344'],\n",
       "       [u'-71.0597732', u'42.3584308', u'703715838889578496'],\n",
       "       [u'-71.13876793', u'42.33868369', u'703716619013505025'],\n",
       "       [u'-71.25975438', u'42.39499626', u'703719105728258048'],\n",
       "       [u'-71.0617', u'42.3578', u'703716109543993344'],\n",
       "       [u'-71.05022878', u'42.35210061', u'703725789359923200'],\n",
       "       [u'-71.0597732', u'42.3584308', u'703717850318438400'],\n",
       "       [u'-71.14699181', u'42.34107182', u'703725204300800001'],\n",
       "       [u'-71.10084321', u'42.33657077', u'703724062850355201'],\n",
       "       [u'-71.0628998', u'42.41144714', u'703720248998924288'],\n",
       "       [u'-71.07276426', u'42.25800092', u'703723635270221824'],\n",
       "       [u'-71.06363253', u'42.35751133', u'703719458242732033'],\n",
       "       [u'-71.1096528', u'42.3726399', u'703723151318908928'],\n",
       "       [u'-71.08435598', u'42.39404691', u'703721079882301440'],\n",
       "       [u'-71.0573421', u'42.3539011', u'703720184196935681'],\n",
       "       [u'-71.0338974', u'42.31607349', u'703723687137013760']], \n",
       "      dtype='<U32')"
      ]
     },
     "execution_count": 28,
     "metadata": {},
     "output_type": "execute_result"
    }
   ],
   "source": [
    "# Using the code above, capture lat, long, tweet id and other fields in a dataframe\n",
    "# import pandas as pd\n",
    "\n",
    "# Get the file names from a given directory\n",
    "file_dir = 'twitter' # Set this to where your JSON saved\n",
    "onlyfiles = [ f for f in listdir(file_dir) if isfile(join(file_dir,f)) and not f.startswith('.')]\n",
    "\n",
    "# Initialize an id-checking list, a list of points\n",
    "bos_ids = []\n",
    "bos_pts = []\n",
    "# Loop through all the files\n",
    "for file in onlyfiles:\n",
    "    full_dir = join(file_dir,file)\n",
    "    # Open the JSON\n",
    "    with open(full_dir) as f:\n",
    "        data = f.read()\n",
    "        # Load the JSON as a dict\n",
    "        dict = json.loads(data)\n",
    "        # Only add the unique tweets to the list\n",
    "        if not isinstance(dict, list):\n",
    "            for key, val in dict.iteritems():\n",
    "                if key not in bos_ids:\n",
    "                    ids.append(key)\n",
    "                    lat = val['lat']\n",
    "                    lon = val['lon']\n",
    "#                     usr = val['user']\n",
    "                    twid = key\n",
    "                    bos_pts.append([lat,lon,twid])\n",
    "points = np.array(bos_pts)\n",
    "points"
   ]
  },
  {
   "cell_type": "code",
   "execution_count": 25,
   "metadata": {
    "collapsed": false
   },
   "outputs": [
    {
     "data": {
      "text/plain": [
       "<matplotlib.collections.PathCollection at 0xc6d12e8>"
      ]
     },
     "execution_count": 25,
     "metadata": {},
     "output_type": "execute_result"
    },
    {
     "data": {
      "image/png": "[encoded data removed]",
      "text/plain": [
       "<matplotlib.figure.Figure at 0xc3f2048>"
      ]
     },
     "metadata": {},
     "output_type": "display_data"
    }
   ],
   "source": [
    "# Grab colors and set a colormap\n",
    "import matplotlib.colors as colors\n",
    "from matplotlib.colors import LinearSegmentedColormap\n",
    "%matplotlib inline\n",
    "\n",
    "coolwarm = plt.cm.get_cmap('coolwarm')\n",
    "inferno = plt.cm.get_cmap('inferno')\n",
    "\n",
    "x = points[:,0]\n",
    "y = points[:,1]\n",
    "z = x+y\n",
    "plt.scatter(x, y, c=z, cmap=inferno, marker=\"*\", s=150, linewidths=.5)"
   ]
  },
  {
   "cell_type": "code",
   "execution_count": 29,
   "metadata": {
    "collapsed": true
   },
   "outputs": [],
   "source": [
    "# Move the array into a csv\n",
    "# Code courtesy of Paul http://gis.stackexchange.com/users/19311/paul\n",
    "\n",
    "import csv\n",
    "\n",
    "csvfile = \"bos_tweets.csv\"\n",
    "\n",
    "with open(csvfile, \"w\") as output:\n",
    "    writer = csv.writer(output, lineterminator='\\n')\n",
    "    writer.writerows(points)"
   ]
  },
  {
   "cell_type": "code",
   "execution_count": null,
   "metadata": {
    "collapsed": true
   },
   "outputs": [],
   "source": []
  }
 ],
 "metadata": {
  "kernelspec": {
   "display_name": "Python 2",
   "language": "python",
   "name": "python2"
  },
  "language_info": {
   "codemirror_mode": {
    "name": "ipython",
    "version": 2
   },
   "file_extension": ".py",
   "mimetype": "text/x-python",
   "name": "python",
   "nbconvert_exporter": "python",
   "pygments_lexer": "ipython2",
   "version": "2.7.11"
  }
 },
 "nbformat": 4,
 "nbformat_minor": 0
}
